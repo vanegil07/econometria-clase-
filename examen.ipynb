{
  "nbformat": 4,
  "nbformat_minor": 0,
  "metadata": {
    "colab": {
      "provenance": []
    },
    "kernelspec": {
      "name": "python3",
      "display_name": "Python 3"
    },
    "language_info": {
      "name": "python"
    }
  },
  "cells": [
    {
      "cell_type": "markdown",
      "source": [
        "Crea un programa que tome una lista de números como entrada y devuelva la suma de todos los números en la lista."
      ],
      "metadata": {
        "id": "ra0S-xFmPEQ8"
      }
    },
    {
      "cell_type": "code",
      "execution_count": 19,
      "metadata": {
        "id": "uM8yOeRD3ma9"
      },
      "outputs": [],
      "source": [
        "lista=[1,2,3,4,5]"
      ]
    },
    {
      "cell_type": "code",
      "source": [
        "numeros=[1,2,3,4,5,6,7,8,9]\n",
        "suma = 0\n",
        "for x in numeros:\n",
        "      suma = suma + x"
      ],
      "metadata": {
        "id": "M35ThSOg-NSL"
      },
      "execution_count": 20,
      "outputs": []
    },
    {
      "cell_type": "code",
      "source": [
        "print(sumar(lista))"
      ],
      "metadata": {
        "colab": {
          "base_uri": "https://localhost:8080/"
        },
        "id": "W_oGvwOF-wY2",
        "outputId": "e2197d28-4d8e-491e-8004-a122f6965489"
      },
      "execution_count": 21,
      "outputs": [
        {
          "output_type": "stream",
          "name": "stdout",
          "text": [
            "1\n"
          ]
        }
      ]
    },
    {
      "cell_type": "markdown",
      "source": [
        "Escribe un programa que tome dos listas y devuelva una nueva lista que contenga todos los elementos que son comunes a ambas listas."
      ],
      "metadata": {
        "id": "0arQtzEgAVJI"
      }
    },
    {
      "cell_type": "code",
      "source": [
        "def listas(a, b):\n",
        "    lista_final = []\n",
        "    for i in a:\n",
        "        if (i not in lista_final) and (i in b):\n",
        "            lista_final.append(i)\n",
        "    return lista_final"
      ],
      "metadata": {
        "id": "z0plqichAjWb"
      },
      "execution_count": 27,
      "outputs": []
    },
    {
      "cell_type": "code",
      "source": [
        ">>> lista = [1,2,3,2,4,5]\n",
        ">>> lista2 = [7,2,5,8,10]\n",
        ">>> res = listas(lista, lista2)\n",
        ">>> print(res) "
      ],
      "metadata": {
        "colab": {
          "base_uri": "https://localhost:8080/"
        },
        "id": "lC9BwgFFA4Gv",
        "outputId": "6e7b3717-c699-4187-882b-5655f48ccca2"
      },
      "execution_count": 28,
      "outputs": [
        {
          "output_type": "stream",
          "name": "stdout",
          "text": [
            "[2, 5]\n"
          ]
        }
      ]
    },
    {
      "cell_type": "markdown",
      "source": [
        "Escribe un programa que tome una lista de números como entrada y devuelva una nueva lista que contenga solo los números pares \n"
      ],
      "metadata": {
        "id": "fycBG4puPAOZ"
      }
    },
    {
      "cell_type": "code",
      "source": [
        "def pares_impares(lista):\n",
        "    '''Función que recibe una lista de números enteros y devuelve dos listas ordenadas con los números impares y pares de la lista dada.\n",
        "\n",
        "    Parámetros:\n",
        "        - lista: Es una lista de números enteros.\n",
        "    Devuelve: Dos listas ordenadas con los números impares y pares de la lista dada.\n",
        "    '''"
      ],
      "metadata": {
        "id": "--iE8cwkHvPN"
      },
      "execution_count": 54,
      "outputs": []
    },
    {
      "cell_type": "code",
      "source": [
        " # Definimos dos listas vacías para guardar los números pares e impares.\n",
        "pares = []\n",
        "impares = []\n",
        "    # Bucle para recorrer la lista de números.\n",
        "for i in lista:\n",
        "        # Condicional para ver si el número es par o impar.\n",
        "        if i%2 == 0:\n",
        "            # Si el resto de la división entera por 2 es 0, el número es par y se añade a la lista de pares. \n",
        "            pares.append(i)\n",
        "        else:\n",
        "            # Si el resto de la división entera por 2 no es 0, el número es impar y se añade a la lista de impares.\n",
        "            impares.append(i)\n",
        "    # Ordenamos las listas.\n",
        "pares.sort()\n",
        "impares.sort()\n",
        "    # Devolvemos las listas de pares e impares.\n",
        " print  (pares, impares)"
      ],
      "metadata": {
        "colab": {
          "base_uri": "https://localhost:8080/"
        },
        "id": "lnAuc2RUHwMl",
        "outputId": "4b3c8a6d-df43-4858-c136-f473ae532ad7"
      },
      "execution_count": 62,
      "outputs": [
        {
          "output_type": "stream",
          "name": "stdout",
          "text": [
            "[2, 4, 6, 8] [1, 3, 5, 7, 9]\n"
          ]
        }
      ]
    },
    {
      "cell_type": "markdown",
      "source": [
        "Crea una función que tome una lista de números como entrada y devuelva el promedio de todos los números en la lista."
      ],
      "metadata": {
        "id": "0fbK_8n1KlaN"
      }
    },
    {
      "cell_type": "code",
      "source": [
        "nums = []\n",
        "print(\"cuantos numeros ingresara\")\n",
        "n=int(input())\n",
        "i=0\n",
        "while i<n:\n",
        "  print(\"valor numero:\", i+1)\n",
        "  val=float(input())\n",
        "  nums.append(val)\n",
        "  i+=1\n",
        "  prom=sum(nums) / len(nums)\n",
        "  print(\"el primedio es:\",prom)"
      ],
      "metadata": {
        "colab": {
          "base_uri": "https://localhost:8080/"
        },
        "id": "V9m8SH_YJ08h",
        "outputId": "b6594bd9-9e52-4c42-d48c-baaffa013700"
      },
      "execution_count": 64,
      "outputs": [
        {
          "output_type": "stream",
          "name": "stdout",
          "text": [
            "cuantos numeros ingresara\n",
            "2\n",
            "valor numero: 1\n",
            "5\n",
            "el primedio es: 5.0\n",
            "valor numero: 2\n",
            "7\n",
            "el primedio es: 6.0\n"
          ]
        }
      ]
    },
    {
      "cell_type": "markdown",
      "source": [
        "Escribe un programa que tome una lista de números como entrada y devuelva el valor máximo en la lista"
      ],
      "metadata": {
        "id": "vrtT2KVyLmja"
      }
    },
    {
      "cell_type": "code",
      "source": [
        "numb=[2,1,7,2,4,]"
      ],
      "metadata": {
        "id": "ukOQCdCkLX99"
      },
      "execution_count": 66,
      "outputs": []
    },
    {
      "cell_type": "code",
      "source": [
        "def mayor(numb):\n",
        "  max=lista[0]\n",
        "  for x in numb:\n",
        "    if x > max:\n",
        "      max=x\n",
        "      return max\n"
      ],
      "metadata": {
        "id": "dVieZpY9NIox"
      },
      "execution_count": 69,
      "outputs": []
    },
    {
      "cell_type": "code",
      "source": [
        "def main(numb):\n",
        "  print(\"la lista es \",lista)\n",
        "  print(\"el numero mayor es\",mayor(numb))\n",
        " "
      ],
      "metadata": {
        "id": "iIQb4iYAN2Sn"
      },
      "execution_count": 73,
      "outputs": []
    },
    {
      "cell_type": "code",
      "source": [
        "main(numb)"
      ],
      "metadata": {
        "colab": {
          "base_uri": "https://localhost:8080/"
        },
        "id": "tbYw7SnGOeut",
        "outputId": "ca2a17ca-6c88-4273-ceb2-6be4474464cb"
      },
      "execution_count": 74,
      "outputs": [
        {
          "output_type": "stream",
          "name": "stdout",
          "text": [
            "la lista es  [2, 1, 7, 2, 4, 23]\n",
            "el numero mayor es 7\n"
          ]
        }
      ]
    },
    {
      "cell_type": "markdown",
      "source": [
        "Escribe una función que tome una cadena como entrada y devuelva True si la cadena es un palíndromo, False en caso contrario.\n"
      ],
      "metadata": {
        "id": "Goxuywn5WILl"
      }
    },
    {
      "cell_type": "code",
      "execution_count": 133,
      "metadata": {
        "id": "dSI3k1BsUnJz"
      },
      "outputs": [],
      "source": [
        "def es_palindromo(cadena):\n",
        "  posicion_izquierda=0\n",
        "  posicion_derecha=len(cadena) - 1\n",
        "  while posicion_derecha >= posicion_izquierda:\n",
        "    if not cadena[posicion_izquierda] == cadena[posicion_derecha]:\n",
        "      return False \n",
        "      posicion_izquierda += 1\n",
        "      posicion_derecha -=1"
      ]
    },
    {
      "cell_type": "markdown",
      "source": [
        "Escribe una función que tome dos números como entrada y devuelva su suma."
      ],
      "metadata": {
        "id": "63wq6KTDX6_K"
      }
    },
    {
      "cell_type": "code",
      "source": [
        "def suma_digitos_numeros(numero_1,numero_2):\n",
        "  suma_1=sum([int(c) for c in str (numero_1)])\n",
        "  suma_2=sum([int(c) for c in str (numero_2)])\n",
        "  return suma_1 + suma_2"
      ],
      "metadata": {
        "id": "SQ9bBxH3WWCf"
      },
      "execution_count": 150,
      "outputs": []
    },
    {
      "cell_type": "code",
      "source": [
        "x=13\n",
        "y=16"
      ],
      "metadata": {
        "id": "t2ZgteC8YirW"
      },
      "execution_count": 140,
      "outputs": []
    },
    {
      "cell_type": "code",
      "source": [
        "print(suma_digitos_numeros(x,y))"
      ],
      "metadata": {
        "colab": {
          "base_uri": "https://localhost:8080/"
        },
        "id": "IVVE9H_2YoxE",
        "outputId": "374102d3-317e-490f-8a89-cdabb5615fb5"
      },
      "execution_count": 141,
      "outputs": [
        {
          "output_type": "stream",
          "name": "stdout",
          "text": [
            "11\n"
          ]
        }
      ]
    },
    {
      "cell_type": "markdown",
      "source": [
        "Crea un programa que tome una cadena como entrada y devuelva una nueva cadena que contenga solo las vocales en la cadena original."
      ],
      "metadata": {
        "id": "rJLep9_5b7KK"
      }
    },
    {
      "cell_type": "code",
      "source": [
        "from re import U\n",
        "def obtener_vocales(frase):\n",
        "  vocales=A,E,I,O,U,a,e,i,o,U\n",
        "  return[c for c in frase if c in vocales]\n",
        "  texto=\"python es genial\"\n",
        "  print(obtener_vocales(texto))\n",
        "  print(len(obtener_vocales(texto)))"
      ],
      "metadata": {
        "id": "EDA0So93Y2-Y"
      },
      "execution_count": 152,
      "outputs": []
    },
    {
      "cell_type": "markdown",
      "source": [
        "Crea un programa que tome una cadena como entrada y devuelva una nueva cadena con los caracteres en orden inverso."
      ],
      "metadata": {
        "id": "I62O5ngheew7"
      }
    },
    {
      "cell_type": "code",
      "source": [
        "cadena=\"python\"\n",
        "for i in range(0,len(cadena),-1,):\n",
        "  print(cadena[i],end=\"\")\n",
        "  "
      ],
      "metadata": {
        "id": "PAkVYnIFdAiW"
      },
      "execution_count": 164,
      "outputs": []
    },
    {
      "cell_type": "code",
      "source": [
        "print(cadena[:])"
      ],
      "metadata": {
        "colab": {
          "base_uri": "https://localhost:8080/"
        },
        "id": "81xu8TqwfM9H",
        "outputId": "274b3b51-e24b-448e-9926-1b514028983b"
      },
      "execution_count": 165,
      "outputs": [
        {
          "output_type": "stream",
          "name": "stdout",
          "text": [
            "python\n"
          ]
        }
      ]
    },
    {
      "cell_type": "markdown",
      "source": [
        "\n",
        "Escribe un programa que tome una lista de números como entrada y devuelva una nueva lista que contenga los valores al cuadrado de cada número en la lista original.\n",
        "\n"
      ],
      "metadata": {
        "id": "sBjXTztOgOgJ"
      }
    },
    {
      "cell_type": "code",
      "source": [
        "def cuadrados(lista):\n",
        "  lista_cuadrados= []\n",
        "  for numero in lista:\n",
        "    cuadrado=numero**2\n",
        "    lista_cuadrados.append(cuadrado)\n",
        "    return lista_cuadrados\n",
        "\n"
      ],
      "metadata": {
        "id": "TW5w6dL4fgYn"
      },
      "execution_count": 178,
      "outputs": []
    }
  ]
}